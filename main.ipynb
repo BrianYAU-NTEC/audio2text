{
 "cells": [
  {
   "cell_type": "markdown",
   "metadata": {},
   "source": [
    "### Install PyTorch\n",
    "pip3 install torch torchvision torchaudio\n",
    "pip install Accelerate\n",
    "\n",
    "### Install Transformers\n",
    "pip install transformers\n",
    "\n",
    "### Install Whisper\n",
    "pip install -U openai-whisper\n",
    "\n",
    "### Intall ffmpeg\n",
    "- on Ubuntu or Debian\n",
    "sudo apt update && sudo apt install ffmpeg\n",
    "\n",
    "- on MacOS using Homebrew (https://brew.sh/)\n",
    "brew install ffmpeg\n",
    "\n",
    "### Install rust in case tiktoken does not provide a pre-built wheel for platform\n",
    "pip install setuptools-rust\n",
    "\n",
    "### Install progress bar\n",
    "pip install progress_bar"
   ]
  },
  {
   "cell_type": "code",
   "execution_count": 15,
   "metadata": {},
   "outputs": [],
   "source": [
    "import torch\n",
    "from transformers import AutoModelForSpeechSeq2Seq, AutoProcessor, pipeline"
   ]
  },
  {
   "cell_type": "code",
   "execution_count": 16,
   "metadata": {},
   "outputs": [
    {
     "name": "stdout",
     "output_type": "stream",
     "text": [
      "Using Metal with device cpu\n"
     ]
    },
    {
     "data": {
      "text/plain": [
       "(device(type='cpu'), torch.float16)"
      ]
     },
     "execution_count": 16,
     "metadata": {},
     "output_type": "execute_result"
    }
   ],
   "source": [
    "has_mps = torch.backends.mps.is_available()\n",
    "has_cuda = torch.cuda.is_available()\n",
    "device = torch.device(\"cuda\" if has_cuda else \"cpu\")\n",
    "print(f\"Using {'Metal' if has_mps else 'CUDA'} with device {device}\")\n",
    "torch_dtype = torch.float16 if has_mps else torch.float32\n",
    "device, torch_dtype"
   ]
  },
  {
   "cell_type": "code",
   "execution_count": 17,
   "metadata": {},
   "outputs": [],
   "source": [
    "# load Whistler model\n",
    "model_id = \"openai/whisper-large-v3\"\n",
    "#model_id = \"openai/whisper-medium\"\n",
    "\n",
    "hf_model = AutoModelForSpeechSeq2Seq.from_pretrained(\n",
    "    model_id,\n",
    "    torch_dtype=torch_dtype,\n",
    "    low_cpu_mem_usage=True,\n",
    "    cache_dir=\"/users/yau/.cache/whisper/models\"\n",
    ").to(device=device)\n",
    "processor = AutoProcessor.from_pretrained(model_id)\n"
   ]
  },
  {
   "cell_type": "code",
   "execution_count": 18,
   "metadata": {},
   "outputs": [
    {
     "name": "stderr",
     "output_type": "stream",
     "text": [
      "Device set to use cpu\n"
     ]
    }
   ],
   "source": [
    "pipe = pipeline(\n",
    "    task=\"automatic-speech-recognition\",\n",
    "    model=hf_model,\n",
    "    tokenizer=processor.tokenizer,\n",
    "    feature_extractor=processor.feature_extractor,\n",
    "    #max_new_tokens=128,\n",
    "    #chunk_length=64,\n",
    "    batch_size=24,\n",
    "    return_timestamps=True,\n",
    "    torch_dtype=torch_dtype,\n",
    "    device=device,\n",
    "    #ignore_warnings=True,\n",
    ")"
   ]
  },
  {
   "cell_type": "code",
   "execution_count": 2,
   "metadata": {},
   "outputs": [
    {
     "name": "stdout",
     "output_type": "stream",
     "text": [
      "Duration: 156.75 minutes\n",
      "Expected transcription time: 7.84 minutes\n"
     ]
    }
   ],
   "source": [
    "from pydub import AudioSegment\n",
    "\n",
    "audio_file = \"5760-Nano-L2.mp3\"\n",
    "sound = AudioSegment.from_file(audio_file)\n",
    "print(f\"Duration: {round(len(sound) / 1000 /60, 2)} minutes\")\n",
    "\n",
    "excepted_tran_time = len(sound) / 1000 / 60 / 20\n",
    "print(f\"Expected transcription time: {round(excepted_tran_time, 2)} minutes\")\n"
   ]
  },
  {
   "cell_type": "code",
   "execution_count": 3,
   "metadata": {},
   "outputs": [
    {
     "ename": "ImportError",
     "evalue": "cannot import name 'IncrementalBar' from 'progress_bar' (/opt/anaconda3/envs/transcribe311/lib/python3.11/site-packages/progress_bar.py)",
     "output_type": "error",
     "traceback": [
      "\u001b[0;31m---------------------------------------------------------------------------\u001b[0m",
      "\u001b[0;31mImportError\u001b[0m                               Traceback (most recent call last)",
      "Cell \u001b[0;32mIn[3], line 1\u001b[0m\n\u001b[0;32m----> 1\u001b[0m \u001b[38;5;28;01mfrom\u001b[39;00m\u001b[38;5;250m \u001b[39m\u001b[38;5;21;01mprogress_bar\u001b[39;00m\u001b[38;5;250m \u001b[39m\u001b[38;5;28;01mimport\u001b[39;00m IncrementalBar\n",
      "\u001b[0;31mImportError\u001b[0m: cannot import name 'IncrementalBar' from 'progress_bar' (/opt/anaconda3/envs/transcribe311/lib/python3.11/site-packages/progress_bar.py)"
     ]
    }
   ],
   "source": [
    "import progress_bar\n",
    "@progress_bar(except_time=excepted_tran_time)\n",
    "def transcribe(a):\n",
    "    sound = AudioSegment.from_file(audio_file)\n",
    "    return pipe(sound)\n"
   ]
  }
 ],
 "metadata": {
  "kernelspec": {
   "display_name": "transcribe311",
   "language": "python",
   "name": "python3"
  },
  "language_info": {
   "codemirror_mode": {
    "name": "ipython",
    "version": 3
   },
   "file_extension": ".py",
   "mimetype": "text/x-python",
   "name": "python",
   "nbconvert_exporter": "python",
   "pygments_lexer": "ipython3",
   "version": "3.11.11"
  }
 },
 "nbformat": 4,
 "nbformat_minor": 2
}
